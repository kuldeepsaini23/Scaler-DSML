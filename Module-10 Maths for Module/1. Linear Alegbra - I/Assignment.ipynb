{
 "cells": [
  {
   "cell_type": "markdown",
   "metadata": {},
   "source": [
    "# Assignment - Linear Algebra - I"
   ]
  },
  {
   "cell_type": "markdown",
   "metadata": {},
   "source": [
    "# Q1. Angle of line\n",
    "\n",
    "Suppose you are given an equation of a line y= 1/sqrt(3)x+2. What is the angle of the line w.r.t x-axis?\n",
    "- 60\n",
    "- 45\n",
    "- 30\n",
    "- None"
   ]
  },
  {
   "cell_type": "markdown",
   "metadata": {},
   "source": [
    "Tan 30 = 1/sqrt(3) => 30"
   ]
  },
  {
   "cell_type": "markdown",
   "metadata": {},
   "source": [
    "# Q2. Fruit Image\n",
    "\n",
    "Say we are given a dataset where we want to classify a given fruit image into 4 categories/classes: Apple, Banana, Watermelon, Peach\n",
    "\n",
    "Which type of machine learning problem does this use-case fall into?\n",
    "- Binary Classification\n",
    "- Regression\n",
    "- Multi-class Classification\n",
    "- Multi-label Classification\n"
   ]
  },
  {
   "cell_type": "markdown",
   "metadata": {},
   "source": [
    "**Correct option:** Multi-class Classification\n",
    "\n",
    "**Explanation:**\n",
    "\n",
    "  - Binary classification algorithms can only be applied when we have 2 classes to classify into.\n",
    "  - The target for regression problems are not classes, but numerical values.\n",
    "  - Multi-label classification requires specialized machine learning algorithms that support predicting multiple mutually non-exclusive classes.\n",
    "  Here, a datapoint can belong to multiple classes simultaneously.\n",
    "  - Multi-class classification algorithms handle the case where more than two mutually exclusive classes are present.\n",
    "  Here, a datapoint can only belong to a single class.\n",
    "So, the correct option is to use a Multi-class classification algorithms."
   ]
  },
  {
   "cell_type": "markdown",
   "metadata": {},
   "source": [
    "# Q3. Appropriate Shape\n",
    "\n",
    "Suppose you have a list of data points, where each data point can be represented using 3 dimensions. We need to classify these data points into 2 classes. Out of the given shapes, which should be the most appropriate shape for this task?\n",
    "- Line\n",
    "- Circle\n",
    "- Plane\n",
    "- Parabola\n"
   ]
  },
  {
   "cell_type": "markdown",
   "metadata": {},
   "source": [
    "**Correct option:** Plane\n",
    "We can use this [link](https://www.geogebra.org/classic/3d) for visualizing this question properly.\n",
    "\n",
    "- A line in 3D space is just an intersection of two planes which won't be enough to separate the points in a 3d space.\n",
    "- A line is a 1-dimensional figure having no thickness and extending infinitely in both directions.\n",
    "- A circle is a curve therefore it won't be able to separate the 3d points.\n",
    "- A parabola is also a curve therefore it can't also separate 3-dimensional points.\n",
    "- A plane is a 2-d surface that extends indefinitely on both sides. Therefore plane can be used for separating the points."
   ]
  },
  {
   "cell_type": "markdown",
   "metadata": {},
   "source": [
    "# Q4. Slope and Intercept\n",
    "\n",
    "The general equation of a line is written as w1x+w2y+w0=0 which can also be represented in terms of slope (m) and intercept (c) as y=mx+c.\n",
    "\n",
    "What is the slope and intercept of the equation w1x+w2y+w0=0?"
   ]
  },
  {
   "cell_type": "markdown",
   "metadata": {},
   "source": []
  },
  {
   "cell_type": "markdown",
   "metadata": {},
   "source": [
    "# Q5. Dataset D\n",
    "\n",
    "Suppose you have a dataset D which has the following points: [(1,2), (3,1), (0,0), (4,0)]. The corresponding labels are: [0, 1, 0, 1]. We wish to classify this data using a line.\n",
    "Which of the following lines classify the points properly?"
   ]
  },
  {
   "cell_type": "markdown",
   "metadata": {},
   "source": [
    "Correct option : x1=2\n",
    "\n",
    "To find the best line, we need to draw a scatter plot of the given dataset and then plot all the given lines to see which one fits best.\n",
    "\n",
    "\n",
    "![](https://d2beiqkhq929f0.cloudfront.net/public_assets/assets/000/018/627/original/download_%2814%29.png?1666009827)\n",
    "\n",
    "This is our dataset. Now we will draw various lines.\n",
    "\n",
    "\n",
    "![](https://d2beiqkhq929f0.cloudfront.net/public_assets/assets/000/018/631/original/download_%2815%29.png?1666013488)\n",
    "\n",
    "We can see that x1=2 is the best line here."
   ]
  },
  {
   "cell_type": "markdown",
   "metadata": {},
   "source": [
    "Q6. Two Lines\n",
    "Solved\n",
    "feature icon\n",
    "Using hints except Complete Solution is Penalty free now\n",
    "Use Hint\n",
    "Given equations of two lines, L1:y1=3x1+4 and L2:3y2=9x2+9. What can be said about these two lines?\n",
    "- Both these lines are perpendicular to each other\n",
    "- Both these lines are parallel to each other\n",
    "- Both these lines are essentially the same\n",
    "- Nothing can be inferred from these equations"
   ]
  },
  {
   "cell_type": "markdown",
   "metadata": {},
   "source": [
    "**Correct option :** Both these lines are parallel to each other.\n",
    "\n",
    "When we divide L2 by 3 on both sides, we have:\n",
    "3y2/2=9x2/3+9/3 \n",
    "\n",
    "y2=3x2+3.\n",
    "\n",
    "Observe that both L1 and L2 have the same slope but different y-intercepts.\n",
    "Therefore both the lines are parallel to each other."
   ]
  }
 ],
 "metadata": {
  "language_info": {
   "name": "python"
  }
 },
 "nbformat": 4,
 "nbformat_minor": 2
}
