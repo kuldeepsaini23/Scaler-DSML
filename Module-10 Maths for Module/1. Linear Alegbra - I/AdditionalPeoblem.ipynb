{
 "cells": [
  {
   "cell_type": "markdown",
   "metadata": {},
   "source": [
    "# Additional Problem"
   ]
  },
  {
   "cell_type": "markdown",
   "metadata": {},
   "source": [
    "# Q1. Data Point\n",
    "\n",
    "Which of the given mathematical terms best describes a data point?\n",
    "- Plane\n",
    "- Line\n",
    "- Vector\n",
    "- Ellipse\n"
   ]
  },
  {
   "cell_type": "markdown",
   "metadata": {},
   "source": [
    "**Correct option :** Vector\n",
    "\n",
    "A plane is a two-dimensional doubly ruled surface spanned by two linearly independent vectors.\n",
    "\n",
    "Since we are talking about a data point, it refers to a single point/vector.\n",
    "\n",
    "A line is a collection of points. Since we are talking about a single value, line is not the answer.\n",
    "\n",
    "Vector is the term to best describe a data point, as it represents a single value.\n",
    "\n",
    "The ellipse is also made from a collection of points, therefore not representing a data point."
   ]
  },
  {
   "cell_type": "markdown",
   "metadata": {},
   "source": [
    "# Q2. Points on Line\n",
    "\n",
    "Which point among the following points lies on line 2y=3x+7?"
   ]
  },
  {
   "cell_type": "markdown",
   "metadata": {},
   "source": [
    "**Correct option:** x=1;y=5\n",
    "\n",
    "Point which lie on the line satisfy the equation of the line.\n",
    "Out of the given options only x=1;y=5 satisfies the condition.\n",
    "Putting value of x and y in our equation:\n",
    "LHS: 2y=2∗5=10\n",
    "RHS: 3x+7=3∗1+7=10\n",
    "\n",
    "Since LHS = RHS, the equation is satisfied."
   ]
  }
 ],
 "metadata": {
  "language_info": {
   "name": "python"
  }
 },
 "nbformat": 4,
 "nbformat_minor": 2
}
