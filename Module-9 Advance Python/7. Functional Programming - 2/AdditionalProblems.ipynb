{
 "cells": [
  {
   "cell_type": "markdown",
   "metadata": {},
   "source": [
    "# Additional Problems"
   ]
  },
  {
   "cell_type": "markdown",
   "metadata": {},
   "source": [
    "Q1. create set or subset\n",
    "What will be the output of the following code snippet:\n",
    "```python\n",
    "from functools import reduce\n",
    "array = {1, 2, 3}\n",
    "result = lambda array: reduce(lambda P, x: P + [subset | {x} for subset in P], array , [set()]) \n",
    "\n",
    "print(result(array)) "
   ]
  },
  {
   "cell_type": "code",
   "execution_count": 1,
   "metadata": {},
   "outputs": [
    {
     "name": "stdout",
     "output_type": "stream",
     "text": [
      "[set(), {1}, {2}, {1, 2}, {3}, {1, 3}, {2, 3}, {1, 2, 3}]\n"
     ]
    }
   ],
   "source": [
    "from functools import reduce\n",
    "array = {1, 2, 3}\n",
    "result = lambda array: reduce(lambda P, x: P + [subset | {x} for subset in P], array , [set()]) \n",
    "\n",
    "print(result(array)) "
   ]
  },
  {
   "cell_type": "markdown",
   "metadata": {},
   "source": [
    "# Q2. Required mail IDs\n",
    "\n",
    "Given a list containing email ids, help Sam in retrieving all the emails which have \"SAM\" or \"sam\" in their names.\n",
    "```python\n",
    "ids = [\"SAM@gmail.com\", \"Ram@gmail.com\", \"sam@gmail.com\", \"samJohnson@iit.com\", \"SAM@harvard.com\"]\n",
    "name = \"sam\"\n",
    "result = list(filter(lambda x : ??? , ids))\n",
    "print(result)\n",
    "```\n",
    "Complete the code snippet given above to return all the email ids in the list that have either the uppercase or lowercase name as a substring. Choose the correct option which can be used to fill the blank (???) to get the required output."
   ]
  },
  {
   "cell_type": "code",
   "execution_count": 3,
   "metadata": {},
   "outputs": [
    {
     "name": "stdout",
     "output_type": "stream",
     "text": [
      "['SAM@gmail.com', 'sam@gmail.com', 'samJohnson@iit.com', 'SAM@harvard.com']\n"
     ]
    }
   ],
   "source": [
    "ids = [\"SAM@gmail.com\", \"Ram@gmail.com\", \"sam@gmail.com\", \"samJohnson@iit.com\", \"SAM@harvard.com\"]\n",
    "name = \"sam\"\n",
    "result = list(filter(lambda x : name in x.lower() , ids))\n",
    "print(result)"
   ]
  }
 ],
 "metadata": {
  "kernelspec": {
   "display_name": "Python 3",
   "language": "python",
   "name": "python3"
  },
  "language_info": {
   "codemirror_mode": {
    "name": "ipython",
    "version": 3
   },
   "file_extension": ".py",
   "mimetype": "text/x-python",
   "name": "python",
   "nbconvert_exporter": "python",
   "pygments_lexer": "ipython3",
   "version": "3.11.4"
  }
 },
 "nbformat": 4,
 "nbformat_minor": 2
}
