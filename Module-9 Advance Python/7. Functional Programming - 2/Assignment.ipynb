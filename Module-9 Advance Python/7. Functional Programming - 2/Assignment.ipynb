{
 "cells": [
  {
   "cell_type": "markdown",
   "metadata": {},
   "source": [
    "# Assignment Functional Programming - 2"
   ]
  },
  {
   "cell_type": "markdown",
   "metadata": {},
   "source": [
    "Q1. Reduce function\n",
    "\n",
    "What will be the output of the following code snippet:\n",
    "```python\n",
    "import functools\n",
    "lists = [1,2,3,4]\n",
    "print(functools.reduce(lambda x,y : x if x > y else y ,lists))"
   ]
  },
  {
   "cell_type": "code",
   "execution_count": 1,
   "metadata": {},
   "outputs": [
    {
     "name": "stdout",
     "output_type": "stream",
     "text": [
      "4\n"
     ]
    }
   ],
   "source": [
    "import functools\n",
    "lists = [1,2,3,4]\n",
    "print(functools.reduce(lambda x,y : x if x > y else y ,lists))"
   ]
  },
  {
   "cell_type": "markdown",
   "metadata": {},
   "source": [
    "# Q2. lambda and map\n",
    "\n",
    "What will the output of the following code snippet:\n",
    "```python\n",
    "sentence = \"abc cde def\"\n",
    "result = list(map(lambda x: list(x), sentence.split(\" \")))\n",
    "print(result)"
   ]
  },
  {
   "cell_type": "code",
   "execution_count": 2,
   "metadata": {},
   "outputs": [
    {
     "name": "stdout",
     "output_type": "stream",
     "text": [
      "[['a', 'b', 'c'], ['c', 'd', 'e'], ['d', 'e', 'f']]\n"
     ]
    }
   ],
   "source": [
    "sentence = \"abc cde def\"\n",
    "result = list(map(lambda x: list(x), sentence.split(\" \")))\n",
    "print(result)"
   ]
  },
  {
   "cell_type": "markdown",
   "metadata": {},
   "source": [
    "# Q3. return substring\n",
    "\n",
    "What will be the output of the following code snippet:\n",
    "\n",
    "```python\n",
    "string = '''\n",
    "We spent several years building our own database engine, Amazon Aurora, a fully-managed MySQL and PostgreSQL-compatible service with the same or better durability and availability as\n",
    "the commercial engines, but at one-tenth of the cost. We were not surprised when this worked.\n",
    "'''\n",
    "result = lambda key, val: key[ key.find(val) -18 : key.find(val) +18 ] if val in key else -1\n",
    "\n",
    "print(result(string, 'SQL'))"
   ]
  },
  {
   "cell_type": "code",
   "execution_count": 3,
   "metadata": {},
   "outputs": [
    {
     "name": "stdout",
     "output_type": "stream",
     "text": [
      "a fully-managed MySQL and PostgreSQL\n"
     ]
    }
   ],
   "source": [
    "string = '''\n",
    "We spent several years building our own database engine, Amazon Aurora, a fully-managed MySQL and PostgreSQL-compatible service with the same or better durability and availability as\n",
    "the commercial engines, but at one-tenth of the cost. We were not surprised when this worked.\n",
    "'''\n",
    "result = lambda key, val: key[ key.find(val) -18 : key.find(val) +18 ] if val in key else -1\n",
    "\n",
    "print(result(string, 'SQL'))"
   ]
  },
  {
   "cell_type": "markdown",
   "metadata": {},
   "source": [
    "# Q4. flatten using sum\n",
    "\n",
    "What will be the output of the following code snippet?\n",
    "```python\n",
    "array = [ [1, [ [ 2 ] ], [ [ [ 3 ] ] ], [ [ 4 ], 5 ] ]]\n",
    "result = lambda x: sum(map(result, x), [ ] ) if isinstance(x, list) else [x]\n",
    "print(result(array))"
   ]
  },
  {
   "cell_type": "code",
   "execution_count": 4,
   "metadata": {},
   "outputs": [
    {
     "name": "stdout",
     "output_type": "stream",
     "text": [
      "[1, 2, 3, 4, 5]\n"
     ]
    }
   ],
   "source": [
    "array = [ [1, [ [ 2 ] ], [ [ [ 3 ] ] ], [ [ 4 ], 5 ] ]]\n",
    "result = lambda x: sum(map(result, x), [ ] ) if isinstance(x, list) else [x]\n",
    "print(result(array))"
   ]
  },
  {
   "cell_type": "markdown",
   "metadata": {},
   "source": [
    "# Q5. filter function\n",
    "\n",
    "Which given option is equivalent to the following code:\n",
    "```python\n",
    "array  = [1, 2, 3, 4, 5]\n",
    "def func1(x):\n",
    "    return x<0\n",
    "result=filter(func1, array)\n",
    "print(list(result))\n",
    "```\n"
   ]
  },
  {
   "cell_type": "code",
   "execution_count": 6,
   "metadata": {},
   "outputs": [
    {
     "name": "stdout",
     "output_type": "stream",
     "text": [
      "[]\n"
     ]
    }
   ],
   "source": [
    "array  = [1, 2, 3, 4, 5]\n",
    "def func1(x):\n",
    "    return x<0\n",
    "result=filter(func1, array)\n",
    "print(list(result))"
   ]
  },
  {
   "cell_type": "code",
   "execution_count": 11,
   "metadata": {},
   "outputs": [
    {
     "data": {
      "text/plain": [
       "[]"
      ]
     },
     "execution_count": 11,
     "metadata": {},
     "output_type": "execute_result"
    }
   ],
   "source": [
    "list(filter(lambda x:x<0, array))"
   ]
  },
  {
   "cell_type": "markdown",
   "metadata": {},
   "source": [
    "# Q6. Filter\n",
    "You are given an incomplete code in which you have to print all the numbers from the list that are less than 6 using filter function. Complete the given code.\n",
    "```python\n",
    "l=[1, 10, -3, 4, 15]\n",
    "\n",
    "def f1(x):\n",
    " return x<6\n",
    "\n",
    "m1 = None\n",
    "# PUT YOUR CODE HERE\n",
    "\n",
    "print(list(m1))"
   ]
  },
  {
   "cell_type": "code",
   "execution_count": 12,
   "metadata": {},
   "outputs": [
    {
     "name": "stdout",
     "output_type": "stream",
     "text": [
      "[1, -3, 4]\n"
     ]
    }
   ],
   "source": [
    "l=[1, 10, -3, 4, 15]\n",
    "\n",
    "def f1(x):\n",
    " return x<6\n",
    "\n",
    "m1 = None\n",
    "# PUT YOUR CODE HERE\n",
    "m1 = filter(f1, l)\n",
    "\n",
    "print(list(m1))"
   ]
  }
 ],
 "metadata": {
  "kernelspec": {
   "display_name": "Python 3",
   "language": "python",
   "name": "python3"
  },
  "language_info": {
   "codemirror_mode": {
    "name": "ipython",
    "version": 3
   },
   "file_extension": ".py",
   "mimetype": "text/x-python",
   "name": "python",
   "nbconvert_exporter": "python",
   "pygments_lexer": "ipython3",
   "version": "3.11.4"
  }
 },
 "nbformat": 4,
 "nbformat_minor": 2
}
