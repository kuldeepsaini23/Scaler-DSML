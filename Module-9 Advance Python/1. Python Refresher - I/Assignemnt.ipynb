{
 "cells": [
  {
   "cell_type": "markdown",
   "metadata": {},
   "source": [
    "# Q1. Reverse the number\n",
    "\n",
    "Which statement can be used to replace the blank space ‘_______’ to reverse a given number and store it in ‘b’?\n",
    "```python\n",
    "while x > 0 :\n",
    "    __________                         \n",
    "\n",
    "    b = b * 10 + a\n",
    "\n",
    "    x = x // 10\n",
    "```\n",
    "\n",
    "- a = x % 10\n",
    "- a = x / 10\n",
    "- a = x // 10\n",
    "- None"
   ]
  },
  {
   "cell_type": "markdown",
   "metadata": {},
   "source": [
    "a = x % 10 is correct answer.\n",
    "\n",
    "“a=x%10” is to store the last digit of the number\n",
    "\n",
    "“b=b*10+a” is to keep reversing the last digit\n",
    "\n",
    "“x=x/10” is to get the remaining digits of the number(except remainder)"
   ]
  },
  {
   "cell_type": "markdown",
   "metadata": {},
   "source": [
    "# Q2. list reversal\n",
    "\n",
    "Raw Problem\n",
    "\n",
    "The correct way to reverse a list is:\n",
    "```python\n",
    "A. def Reverse(lst):\n",
    "     return [ele for ele in reversed(lst)]\n",
    "\n",
    "B. def Reverse(lst):\n",
    "     lst.reverse()\n",
    "     return lst\n",
    "\n",
    "C. def Reverse(lst):\n",
    "     return lst[::-1]\n"
   ]
  },
  {
   "cell_type": "code",
   "execution_count": 9,
   "metadata": {},
   "outputs": [],
   "source": [
    "def ReverseA(lst):\n",
    "     return [ele for ele in reversed(lst)]\n",
    "\n",
    "def ReverseB(lst):\n",
    "     lst.reverse()\n",
    "     return lst\n",
    "\n",
    "def ReverseC(lst):\n",
    "     return lst[::-1]"
   ]
  },
  {
   "cell_type": "code",
   "execution_count": 10,
   "metadata": {},
   "outputs": [
    {
     "name": "stdout",
     "output_type": "stream",
     "text": [
      "[50, 40, 30, 20, 10]\n",
      "[50, 40, 30, 20, 10]\n",
      "[10, 20, 30, 40, 50]\n"
     ]
    }
   ],
   "source": [
    "list = [10, 20, 30, 40, 50]\n",
    "print(ReverseA(list))\n",
    "print(ReverseB(list))\n",
    "c = ReverseC(list)\n",
    "print(c)"
   ]
  },
  {
   "cell_type": "markdown",
   "metadata": {},
   "source": [
    "# Q3. Operations on list\n",
    "\n",
    "Given two arrays, some operations are performed on these arrays, and the following three arrays are obtained after the operations as output.\n",
    "What are those operations that are performed on the arrays respectively?\n",
    "```python\n",
    "arr1 = [1,2,3]\n",
    "arr2 = [6,5,4]\n",
    "\n",
    "I.   arr1   = [1,2,3,6,5,4]\n",
    "II.  arr1   = [1,2,3,[6,5,4]]\n",
    "III. arr2  = [4,5,6]"
   ]
  },
  {
   "cell_type": "markdown",
   "metadata": {},
   "source": [
    "**Correct option:** extend, append, sort\n",
    "\n",
    "**Explanation:**\n",
    "\n",
    "I. [1,2,3,6,5,4] = arr1.extend(arr2)\n",
    "\n",
    "II.[1,2,3,[6,5,4]] = arr1.append(arr2)\n",
    "\n",
    "III. [4,5,6]= arr2.sort()\n",
    "\n",
    "\n",
    "- ‘extend’ is used to merge two list. For the code arr1.extend(arr2) the elements of arr2 are inserted at the end of arr1 without changing the order.\n",
    "\n",
    "- ‘append’ merges second list inside first list\n",
    "\n",
    "- ‘sort’ arranges the element in the list in ascending/increasing order."
   ]
  },
  {
   "cell_type": "markdown",
   "metadata": {},
   "source": [
    "# Q4. Replace with Cube\n",
    "\n",
    "Problem Statement:\n",
    "\n",
    "Complete the function replace_cube(), which takes a list and a value N as inputs, and updates every element that is in a position which is a multiple of N, with a number that is the cube of the existing number, in the list and returns the newly updated list.\n",
    "\n",
    "Note: Here while operating with N, it should be considered that if we say that an element is at index i then its position is (i+1)th. For example, an element at index 1 is actually in the second(2nd) position.\n",
    "\n",
    "Input Format:\n",
    "```python\n",
    "Space separated integers representing the list elements.\n",
    "N (integer)\n",
    "```\n",
    "Output Format:\n",
    "```python\n",
    "A list is simply printed\n",
    "Sample Input:\n",
    "\n",
    "1 2 3 4 5 \n",
    "2\n",
    "```\n",
    "Sample output:\n",
    "```python\n",
    "1 8 3 64 5\n",
    "```\n",
    "**Sample explanation:**\n",
    "\n",
    "Since the given value of N is 2, from the list, 2nd and 4th elements would be replaced with their cubes. The index of 2nd element is 1 but their position is (i+1) so the position is 2, which is a multiple of 2. Hence, 2 becomes 8 ad 4 becomes 64 in the resultant answer."
   ]
  },
  {
   "cell_type": "markdown",
   "metadata": {},
   "source": [
    "```python\n",
    "def replace_cube(arr, N):\n",
    "    '''\n",
    "    input:\n",
    "    arr -> list of the input numbers\n",
    "    N -> value of N as mentioned in the question\n",
    "    \n",
    "    output:\n",
    "    res_list -> resultant list formed after doing the required computation as mentioned in the question\n",
    "    '''\n",
    "    index = 0\n",
    "    while index < len(arr):\n",
    "        if index + N - 1 < len(arr):\n",
    "            arr[index + N - 1] = arr[index + N - 1] ** 3\n",
    "        index += N\n",
    "\n",
    "    res_list = arr\n",
    "    # Your code starts here\n",
    "    \n",
    "    \n",
    "    # Your code ends here\n",
    "    return res_list"
   ]
  },
  {
   "cell_type": "markdown",
   "metadata": {},
   "source": [
    "# Q5. Flatten the nested\n",
    "\n",
    "Problem Description\n",
    "Write a function flatten() that takes a nested list as input and returns a sorted flattened list.\n",
    "\n",
    "\n",
    "Input Format\n",
    "```python\n",
    "A nested list is taken as input\n",
    "```\n",
    "\n",
    "Output Format\n",
    "```python\n",
    "A simple flat list sorted in ascending order is printed.\n",
    "```\n",
    "\n",
    "Example Input\n",
    "```python\n",
    "[10,[40,20],30,50]\n",
    "```\n",
    "\n",
    "Example Output\n",
    "```python\n",
    "[10, 20, 30, 40, 50]\n",
    "```\n",
    "\n",
    "Example Explanation\n",
    "```python\n",
    "On flattening the input list, we get [10, 40, 20, 30, 50], and when we sort it, the resultant output is [10, 20, 30, 40, 50].\n",
    "```"
   ]
  },
  {
   "cell_type": "code",
   "execution_count": 25,
   "metadata": {},
   "outputs": [],
   "source": [
    "def flatten(arr):\n",
    "    '''\n",
    "    input:\n",
    "    arr -> given nested python list\n",
    "    \n",
    "    output:\n",
    "    res_arr -> the nested list, flattened and sorted\n",
    "    '''\n",
    "    res_arr = []\n",
    "    \n",
    "    # Your Code Starts here\n",
    "    for i in arr:\n",
    "        if type(i) == list:\n",
    "            res_arr.extend(flatten(i))\n",
    "        else:\n",
    "            res_arr.append(i)\n",
    "        res_arr.sort()\n",
    "    # Your Code Ends here\n",
    "    return res_arr\n"
   ]
  },
  {
   "cell_type": "markdown",
   "metadata": {},
   "source": [
    "# Q6. Restaurant Menu\n",
    "\n",
    "Problem Description:\n",
    "\n",
    "Your friend Suresh is running a restaurant and wants to update the price of some items on the menu. Suresh has made his menu in a nested list such that the menu list contains sub-lists in the form [item_name, Price]. Suresh wants to increase the price of some selected dishes by 10%.\n",
    "\n",
    "Menu List:\n",
    "```python\n",
    "Menu = [['Sweet_Corn_Soup', 300.0], ['Cream_of_Tomato_Soup', 100.0], ['Bacon_and_Cheese', 150.0], ['Honey_Mustard', 230.0], ['Hot_Coffee', 50.0], ['Cold_Coffee', 50.0], ['Egg_Sandwiches', 130.0], ['Tacos', 400.0]]\n",
    "```\n",
    "Input Format:\n",
    "```python\n",
    "Space separated strings representing the items whose price is to be reduced\n",
    "```\n",
    "Output Format:\n",
    "```python\n",
    "The main menu list with updated price.\n",
    "```\n",
    "Sample Input :\n",
    "```python\n",
    "Hot_Coffee Cold_Coffee Tacos\n",
    "```\n",
    "Sample Output:\n",
    "```python\n",
    "[['Sweet_Corn_Soup', 300.0], ['Cream_of_Tomato_Soup', 100.0], ['Bacon_and_Cheese', 150.0], ['Honey_Mustard', 230.0], ['Hot_Coffee', 55.0], ['Cold_Coffee', 55.0], ['Egg_Sandwiches', 130.0], ['Tacos', 440.0]]\n",
    "```\n",
    "Sample Explanation:\n",
    "```python\n",
    "Price of Hot_Coffee was 50 which when increased by 10%, the final price became 55.0. Similarly, the prices of Cold_Coffee and Tacos were increased and updated by 10% on the menu list.\n",
    "```"
   ]
  },
  {
   "cell_type": "code",
   "execution_count": 27,
   "metadata": {},
   "outputs": [],
   "source": [
    "def new_menu(item_list):\n",
    "    #This is the Menu list we want to update\n",
    "    Menu = [['Sweet_Corn_Soup', 300.0], ['Cream_of_Tomato_Soup', 100.0], ['Bacon_and_Cheese', 150.0], ['Honey_Mustard', 230.0], ['Hot_Coffee', 50.0], ['Cold_Coffee', 50.0], ['Egg_Sandwiches', 130.0], ['Tacos', 400.0]]\n",
    "    #Write your code here\n",
    "    for i in item_list:\n",
    "        for j in Menu:\n",
    "            if i in j:\n",
    "               j[1] += 0.1*j[1] \n",
    "\n",
    "    return Menu"
   ]
  },
  {
   "cell_type": "markdown",
   "metadata": {},
   "source": [
    "# Q7. batting to score\n",
    "\n",
    "What will be the output of the following code?\n",
    "```python\n",
    "score = 2\n",
    "if False:\n",
    "    score = 66\n",
    "\n",
    "def batting():\n",
    "    if True:\n",
    "        score = 40\n",
    "\n",
    "batting()\n",
    "print(score)"
   ]
  },
  {
   "cell_type": "markdown",
   "metadata": {},
   "source": [
    "2 is correct answer.\n",
    "\n",
    "score is initially assigned the value 2. This variable ‘score’ is a **Global Variable**.\n",
    "\n",
    "The if False statement evaluates to False, so the **score = 66** reassignment never takes place.\n",
    "\n",
    "The reassignment inside the batting() function does take place, but in the local scope of the function, not the global scope. The function creates a copy of the score variable and assigns the new value to the variable. The global variable is not affected.\n",
    "\n",
    "When the score variable is accessed in the global scope by the print(score) statement, the value remains unchanged at 2 and is printed."
   ]
  }
 ],
 "metadata": {
  "kernelspec": {
   "display_name": "Python 3",
   "language": "python",
   "name": "python3"
  },
  "language_info": {
   "codemirror_mode": {
    "name": "ipython",
    "version": 3
   },
   "file_extension": ".py",
   "mimetype": "text/x-python",
   "name": "python",
   "nbconvert_exporter": "python",
   "pygments_lexer": "ipython3",
   "version": "3.11.4"
  }
 },
 "nbformat": 4,
 "nbformat_minor": 2
}
