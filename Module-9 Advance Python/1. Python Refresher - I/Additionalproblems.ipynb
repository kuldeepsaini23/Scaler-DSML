{
 "cells": [
  {
   "cell_type": "markdown",
   "metadata": {},
   "source": [
    "# Additional Problems"
   ]
  },
  {
   "cell_type": "markdown",
   "metadata": {},
   "source": [
    "# Q1. Hello list comprehension\n",
    "\n",
    "What will be the output of the following code snippet?\n",
    "```python\n",
    "arr = [a+\" \"+b for a in [ ‘Hello’, ‘Good’] for b in [‘Dear’, ‘Bye’]]\n",
    "print(arr) \n",
    "```\n",
    "- [‘Hello Dear’, ‘Hello Bye’, ‘Good Dear’, ‘Good Bye’]\n",
    "- [‘Hello Dear’, ‘Good Dear’, ‘Hello Bye’, ‘Good Bye’]\n",
    "- [['Hello Dear', 'Good Dear'], ['Hello Bye', 'Good Bye']]\n",
    "- [['Hello Bye', 'Good Dear'], ['Hello Bye', 'Good Dear']]"
   ]
  },
  {
   "cell_type": "markdown",
   "metadata": {},
   "source": [
    "[‘Hello Dear’, ‘Hello Bye’, ‘Good Dear’, ‘Good Bye’] is correct answer.\n",
    "\n",
    "\n",
    "arr = [a+” “+b for a in [ ‘Hello’, ‘Good’] for b in [‘Dear’, ‘Bye’]]\n",
    "\n",
    "This code is equivalent to:\n",
    "\n",
    "arr=[]\n",
    "for a in ['Hello','Good']:\n",
    "\n",
    "     for b in ['Dear','Bye']:\n",
    "\n",
    "          arr.append(a+\" \"+b)\n",
    "\n",
    "In the first Iteration, the value of loop variable a ,which is the Outer Loop will be ‘Hello’\n",
    "This value of a will be concatenated, to both the values of the inner loop variable b, which is ‘Dear’ and ‘Bye’\n",
    "\n",
    "a=Hello+ “ “ + b=Dear(iteration1 )\n",
    "a=Hello+ “ “ + b=Bye(iteration 2)\n",
    "\n",
    "Above gives [‘Hello Dear’, ‘Hello Bye’]\n",
    "\n",
    "\n",
    "In the second Iteration, the value of loop variable a , which is the Outer Loop will be ‘Good’\n",
    "This value of a will be concatenated, to both the values of the inner loop variable b, which is ‘Dear’ and ‘Bye’\n",
    "\n",
    "a=Good + “ “ + b=Dear(iteration 1)\n",
    "a=Good + “ “ + b=Bye(iteration 2)\n",
    "\n",
    "Above gives [‘Good Dear’, ‘Good Bye’]\n",
    "\n",
    "Finally= [‘Hello Dear’, ‘Hello Bye’, ‘Good Dear’, ‘Good Bye’]"
   ]
  },
  {
   "cell_type": "markdown",
   "metadata": {},
   "source": [
    "# Q2. End infinite loop\n",
    "\n",
    "A block of code which encounters the situation of an infinite loop is given below. What changes can be done to remove the situation of infinite loop?\n",
    "```python\n",
    "z = 0\n",
    "while z != 11:\n",
    " z += 2\n",
    " print(z)\n",
    "```\n",
    "- Change the condition to z ! = 10\n",
    "- Change the condition to z < 11\n",
    "- Add logic that says if z == 10 break out of the loop\n",
    "- All of these\n"
   ]
  },
  {
   "cell_type": "markdown",
   "metadata": {},
   "source": [
    "The current code is going to infinite loop because the value of z will never become 11. The value of z is initilised with 0 and it increases by 2. So it will never become 11 and hence the while condition will never be reached.\n",
    "\n",
    "All of these is correct answer.\n",
    "\n",
    "- Change the condition to z ! = 10. Since z is increasing by 2, at 6th iteration the value of z will be equal to 10, and the given condition will be false and while loop will break.\n",
    "\n",
    "- Change the condition to z < 11. Initially z =0. At the 6th iteration the value of z will be equal to 10 which is less than 11. At the 7th iteration the value of z will be 12 which is greater than 11 and loop breaks after 6th iteration.\n",
    "\n",
    "- Add logic that says if z == 10: break.\n",
    "The code becomes\n",
    "\n",
    "z = 0\n",
    "while z != 11:\n",
    "\n",
    "  if(z==0): \n",
    "    break\n",
    "\n",
    " z += 2\n",
    " print(z)\n",
    "\n",
    "\n",
    "Adding this condition will break the loop if z will be equal to 10 at 6th iteration."
   ]
  },
  {
   "cell_type": "markdown",
   "metadata": {},
   "source": [
    "# Q3. Least Common Multiple (LCM)\n",
    "\n",
    "Problem Description\n",
    "```python\n",
    "Create a function that takes a list of numbers as input and returns the Least Common Multiple (LCM) of all the numbers.\n",
    "\n",
    "Note: lcm(a,b)= \n",
    "gcd(a,b)\n",
    "(a.b)\n",
    "​\n",
    " , where (a.b) is the product of the 2 numbers a and b, gcd(a,b) is the Greatest Common Divisor of a and b.\n",
    "```\n",
    "\n",
    "Input Format\n",
    "```python\n",
    "Space separated integers representing the elements of list\n",
    "```\n",
    "\n",
    "Output Format\n",
    "```python\n",
    "Integer representing LCM is printed\n",
    "```\n",
    "\n",
    "Example Input\n",
    "```python\n",
    "13 6 17 18 19 20 37\n",
    "```\n",
    "\n",
    "Example Output\n",
    "```python\n",
    "27965340\n",
    "```"
   ]
  },
  {
   "cell_type": "code",
   "execution_count": null,
   "metadata": {},
   "outputs": [],
   "source": [
    "def lcm(arr):\n",
    "    \n",
    "    # arr-> The list of integer numbers\n",
    "    # Output-> The LCM of the list of Integer numbers is to be returned\n",
    "    result=1 \n",
    "    # YOUR CODE GOES HERE\n",
    "      # Defining the GCD function to calculate the GCD of 2 numbers\n",
    "    def gcd(n,m):\n",
    "        if(m==0):\n",
    "            return n\n",
    "        return gcd(m, n % m)  # Recursive call to find GCD\n",
    "\n",
    "    for i in arr:\n",
    "        result = result * i// gcd(result,i)\n",
    "\n",
    "    return result\n"
   ]
  },
  {
   "cell_type": "markdown",
   "metadata": {},
   "source": [
    "# Q4. max of sum\n",
    "\n",
    "What will be the output of the following code snippet:\n",
    "```python\n",
    "arr = [[1,2,3],[10,11,12],[4,5,6],[13,14,15],[10,1,2]]\n",
    "\n",
    "print(max (arr, key=sum ) )\n",
    "```\n",
    "\n",
    "- Error\n",
    "- [10, 11, 12]\n",
    "- [13, 14, 15]\n",
    "- [15, 12, 10]"
   ]
  },
  {
   "cell_type": "markdown",
   "metadata": {},
   "source": []
  },
  {
   "cell_type": "code",
   "execution_count": 1,
   "metadata": {},
   "outputs": [
    {
     "name": "stdout",
     "output_type": "stream",
     "text": [
      "[13, 14, 15]\n"
     ]
    }
   ],
   "source": [
    "arr = [[1,2,3],[10,11,12],[4,5,6],[13,14,15],[10,1,2]]\n",
    "\n",
    "print(max (arr, key=sum ) )"
   ]
  },
  {
   "cell_type": "markdown",
   "metadata": {},
   "source": [
    "# Q5. Inside ML\n",
    "\n",
    "What is the output of the following code?\n",
    "```python\n",
    "var=1\n",
    "def ML():\n",
    "     print(\"Inside ML:\", var, end=\" \")\n",
    "\n",
    "def AI():\n",
    "     var=2\n",
    "     print(\"Inside AI:\", var, end=\" \")\n",
    "\n",
    "def DL():\n",
    "     global var\n",
    "     var =3\n",
    "     print(\"Inside DL:\",  var, end=\" \")\n",
    "ML()\n",
    "print(var, end=\" \")\n",
    "\n",
    "AI()\n",
    "print(var, end=\" \")\n",
    "\n",
    "DL()\n",
    "print(var, end=\" \")\n",
    "```"
   ]
  },
  {
   "cell_type": "code",
   "execution_count": 2,
   "metadata": {},
   "outputs": [
    {
     "name": "stdout",
     "output_type": "stream",
     "text": [
      "Inside ML: 1 1 Inside AI: 2 1 Inside DL: 3 3 "
     ]
    }
   ],
   "source": [
    "var=1\n",
    "def ML():\n",
    "     print(\"Inside ML:\", var, end=\" \")\n",
    "\n",
    "def AI():\n",
    "     var=2\n",
    "     print(\"Inside AI:\", var, end=\" \")\n",
    "\n",
    "def DL():\n",
    "     global var\n",
    "     var =3\n",
    "     print(\"Inside DL:\",  var, end=\" \")\n",
    "ML()\n",
    "print(var, end=\" \")\n",
    "\n",
    "AI()\n",
    "print(var, end=\" \")\n",
    "\n",
    "DL()\n",
    "print(var, end=\" \")"
   ]
  },
  {
   "cell_type": "markdown",
   "metadata": {},
   "source": [
    "Inside ML: 1 1 Inside AI: 2 1 Inside DL: 3 3 , is the correct answer.\n",
    "\n",
    "Firstly, the ML function is called, so “1” is printed, then the global value of “var” i.e. “1” is printed.\n",
    "\n",
    "Secondly, the AI function is called, so “2” is printed, then the global value of “var” i.e. “1” is printed.\n",
    "\n",
    "Thirdly, the DL function is called, so “3” is printed but the global keyword is used to update the global “var” value and hence it prints “3”."
   ]
  },
  {
   "cell_type": "markdown",
   "metadata": {},
   "source": [
    "# Q6. pop from list\n",
    "\n",
    "What will be the output of the following snippet?\n",
    "```python\n",
    "arr = [[1, 2, 3, 4],\n",
    "       [4, 5, 6, 7],\n",
    "       [8, 9, 10, 11],\n",
    "       [12, 13, 14, 15]]\n",
    "\n",
    "for i in range(0, 4):\n",
    "  print(arr[i].pop(), end=\" \")\n",
    "```"
   ]
  },
  {
   "cell_type": "code",
   "execution_count": 8,
   "metadata": {},
   "outputs": [
    {
     "name": "stdout",
     "output_type": "stream",
     "text": [
      "4 7 11 15 "
     ]
    }
   ],
   "source": [
    "arr = [[1, 2, 3, 4],\n",
    "       [4, 5, 6, 7],\n",
    "       [8, 9, 10, 11],\n",
    "       [12, 13, 14, 15]]\n",
    "\n",
    "for i in range(0, 4):\n",
    "  print(arr[i].pop(), end=\" \")"
   ]
  },
  {
   "cell_type": "markdown",
   "metadata": {},
   "source": [
    "# Q7. fruits in list\n",
    "\n",
    "What is the output of the following code snippet?\n",
    "```python\n",
    "list1 = ['Apple', 'Berry', 'Cherry', 'Papaya']\n",
    "list2 = list1\n",
    "list3 = list1[:]\n",
    "\n",
    "list2[0] = 'Guava'\n",
    "list3[1] = 'Kiwi'\n",
    "\n",
    "total = 0\n",
    "for ls in (list1, list2, list3):\n",
    "  if ls[0] == 'Guava':\n",
    "    total += 1\n",
    "\n",
    "  if ls[1] == 'Kiwi':\n",
    "    total += 20\n",
    "\n",
    "print (total, list3[0])\n",
    "```"
   ]
  },
  {
   "cell_type": "code",
   "execution_count": 12,
   "metadata": {},
   "outputs": [
    {
     "name": "stdout",
     "output_type": "stream",
     "text": [
      "22 Apple\n"
     ]
    }
   ],
   "source": [
    "list1 = ['Apple', 'Berry', 'Cherry', 'Papaya']\n",
    "list2 = list1\n",
    "list3 = list1[:]\n",
    "\n",
    "list2[0] = 'Guava'\n",
    "list3[1] = 'Kiwi'\n",
    "\n",
    "total = 0\n",
    "for ls in (list1, list2, list3):\n",
    "  if ls[0] == 'Guava':\n",
    "    total += 1\n",
    "\n",
    "  if ls[1] == 'Kiwi':\n",
    "    total += 20\n",
    "\n",
    "print (total, list3[0])"
   ]
  }
 ],
 "metadata": {
  "kernelspec": {
   "display_name": "Python 3",
   "language": "python",
   "name": "python3"
  },
  "language_info": {
   "codemirror_mode": {
    "name": "ipython",
    "version": 3
   },
   "file_extension": ".py",
   "mimetype": "text/x-python",
   "name": "python",
   "nbconvert_exporter": "python",
   "pygments_lexer": "ipython3",
   "version": "3.11.4"
  }
 },
 "nbformat": 4,
 "nbformat_minor": 2
}
