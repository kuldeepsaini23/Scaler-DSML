{
 "cells": [
  {
   "cell_type": "markdown",
   "metadata": {},
   "source": [
    "# Additional Problems"
   ]
  },
  {
   "cell_type": "markdown",
   "metadata": {},
   "source": [
    "# Q1. Essay Examiner\n",
    "\n",
    "You are an examiner and you need to check whether the essays written are within the word limit or not. Given the code snippet below\n",
    "\n",
    "```python\n",
    "with open(\"essay.txt\",\"r\") as f:\n",
    "\n",
    "    count = 0\n",
    "\n",
    "    data = ____A_____\n",
    "\n",
    "    words = ____B____\n",
    "\n",
    "    for word in words:\n",
    "\n",
    "        count += 1\n",
    "\n",
    "    print(count)\n",
    "\n",
    "What is the correct option for A and B?"
   ]
  },
  {
   "cell_type": "markdown",
   "metadata": {},
   "source": [
    "✅**Correct Answer:** A = f.read(), B = data.split()\n",
    "\n",
    "First the entire file is read using read() method. Then we split the string by spaces obtained by the read() method. Then we run through the list and count the number of words."
   ]
  },
  {
   "cell_type": "markdown",
   "metadata": {},
   "source": [
    "# Q2. Data Filtering\n",
    "\n",
    "For a certain task, we need to filter out lines from a text file, data.txt, which contain the word \"scaler\", to a new text file, new_data.txt. Given the piece of code below:\n",
    "\n",
    "```python\n",
    "with open('data.txt', 'r') as fr:\n",
    "  lines = ______A_______\n",
    "  with open('new_data.txt', 'w') as fw:\n",
    "    for line in lines:\n",
    "      if 'scaler' in line:\n",
    "        ___B___\n",
    "\n",
    "```\n",
    "What would be the correct option for A and B?\n",
    "\n",
    "Note: It can be assumed that we are checking for the term “scaler” in **lower case** only."
   ]
  },
  {
   "cell_type": "markdown",
   "metadata": {},
   "source": [
    "✅**Correct Answer:** A = fr.readlines(), B = fw.write(line)\n",
    "\n",
    "First, we read the text file line by line, using **readlines()**.\n",
    "Then we write the line which has the word scaler using **.write(line)**."
   ]
  },
  {
   "cell_type": "markdown",
   "metadata": {},
   "source": [
    "# Q3. Numeric Characters\n",
    "\n",
    "Which of these would be the correct code to create a function to find the count of numeric characters in a file named \"Python.txt\"?\n",
    "```python\n",
    "A.def numcount():\n",
    "    numb=0\n",
    "    f1=open(\"Python.txt\",'r')\n",
    "    line=f1.read()\n",
    "    for i in line:\n",
    "        if (i.isnumeric() == True):\n",
    "            numb+=1\n",
    "    print(\"Total no. of numeric characters :\",numb)\n",
    "```\n",
    "```python\n",
    "B.def numcount():\n",
    "    numb=0\n",
    "    f1=open(\"Python.txt\",'r')\n",
    "    line=f1.readlines()\n",
    "    for i in line:\n",
    "        if (i.isnumeric() == True):\n",
    "            numb+=1\n",
    "    print(\"Total no. of numeric characters :\",numb)\n",
    "```\n",
    "```python\n",
    "C.def numcount():\n",
    "    numb=0\n",
    "    f1=open(\"Python.txt\",'r')\n",
    "    line=f1.readline()\n",
    "    for i in f1:\n",
    "        if (i.isnumeric() == True):\n",
    "            numb+=1\n",
    "    print(\"Total no. of numeric characters :\",numb)\n",
    "```\n",
    "```python\n",
    "D.def numcount():\n",
    "    numb=0\n",
    "    f1=open(\"Python.txt\",'r')\n",
    "    line=f1.read()\n",
    "    for i in f1:\n",
    "        if (i.numeric() == True):\n",
    "            numb+=1\n",
    "    print(\"Total no. of numeric characters :\",numb)\n",
    "```"
   ]
  },
  {
   "cell_type": "markdown",
   "metadata": {},
   "source": [
    "✅**Correct Answer:** A\n",
    "\n",
    "- B is wrong since we need to check numeric characters, not lines. Therefore we need to iterate through each char of each line.\n",
    "\n",
    "- C is wrong since we need to iterate through the line variable, as well as we need to use f1.read() instead of readline\n",
    "\n",
    "- D is wrong since we need to check numeric, so we need i.isnumeric() function, as well as we need to iterate through line variable A B is wrong since we need to check numeric characters, not lines C is wrong since we need to iteratre through the line variable, as well as we need to use f1.read() instead of readline D is wrong since we need to check numeric, so we need i.isnumeric() function, as well as we need to iterate through line variable"
   ]
  },
  {
   "cell_type": "markdown",
   "metadata": {},
   "source": [
    "# Q4. File handling I\n",
    "What will be the output of the following Python code?\n",
    "```python\n",
    "f = None \n",
    "for i in range (5): \n",
    "    with open(\"data.txt\", \"w\") as f: \n",
    "        if i > 2: \n",
    "            break \n",
    "print(f.closed)"
   ]
  },
  {
   "cell_type": "code",
   "execution_count": 1,
   "metadata": {},
   "outputs": [
    {
     "name": "stdout",
     "output_type": "stream",
     "text": [
      "True\n"
     ]
    }
   ],
   "source": [
    "f = None \n",
    "for i in range (5): \n",
    "    with open(\"data.txt\", \"w\") as f: \n",
    "        if i > 2: \n",
    "            break \n",
    "print(f.closed)"
   ]
  },
  {
   "cell_type": "markdown",
   "metadata": {},
   "source": [
    "✅ **Correct Answer:** True\n",
    "\n",
    "The code will open the file, or create if non-existent, named ‘data.txt’, times. The value of loop variable i will start from 0 and go to 2. The inside if condition checks if the value of i is greater than 2. When the value of i is greater than 2, the loop breaks.\n",
    "\n",
    "At the end of each loop iteration, the file is closed. The resultant value of .closed will return True or False based on if the file was closed or not.\n",
    "\n",
    "As the file is closed after opening 3 times, the result printed will be True."
   ]
  }
 ],
 "metadata": {
  "kernelspec": {
   "display_name": "Python 3",
   "language": "python",
   "name": "python3"
  },
  "language_info": {
   "codemirror_mode": {
    "name": "ipython",
    "version": 3
   },
   "file_extension": ".py",
   "mimetype": "text/x-python",
   "name": "python",
   "nbconvert_exporter": "python",
   "pygments_lexer": "ipython3",
   "version": "3.11.4"
  }
 },
 "nbformat": 4,
 "nbformat_minor": 2
}
