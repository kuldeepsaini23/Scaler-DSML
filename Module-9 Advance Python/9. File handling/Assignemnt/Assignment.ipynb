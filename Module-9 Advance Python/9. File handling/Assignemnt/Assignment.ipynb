{
 "cells": [
  {
   "cell_type": "markdown",
   "metadata": {},
   "source": [
    "# Assignment File Handling"
   ]
  },
  {
   "cell_type": "markdown",
   "metadata": {},
   "source": [
    "# Q1. What is the Operation?\n",
    "\n",
    "Given the following code, what operation will the code perform?\n",
    "```python\n",
    "f = open(“testfile.txt”,”r”)\n",
    "\n",
    "print(f.readline())\n",
    "```\n",
    "- Read everything till the first \"\\n\" character\n",
    "- Read everything till the first \"\\t\" character\n",
    "- Read everything till the first \".\" character\n",
    "- None of the Above"
   ]
  },
  {
   "cell_type": "markdown",
   "metadata": {},
   "source": [
    "**Correct Answer:** Read everything till the first “\\n” character.\n",
    "\n",
    "readline reads a line of the file and returns it in the form of a string. It reads everything until it encounters a **newline(“\\n”)** character."
   ]
  },
  {
   "cell_type": "markdown",
   "metadata": {},
   "source": [
    "# Q2. Write and Append\n",
    "\n",
    "Which of the following is/are true about the write mode in file handling?\n",
    "\n",
    "- both write and append modes are similar.\n",
    "\n",
    "- write mode is different from append mode\n",
    "\n",
    "- write mode adds text to the end of the pre existing content in the text file\n",
    "\n",
    "- write mode overwrites the content of the text file\n"
   ]
  },
  {
   "cell_type": "markdown",
   "metadata": {},
   "source": [
    "**Correct Answer:**\n",
    "\n",
    "  - write mode is different from append mode\n",
    "  - write mode overwrites the content of the text file\n",
    "  \n",
    "**write mode overwrites** the content in the file by creating a new file.\n",
    "If we have a file named f and we do f.write(something) this would completely overwrite the content that was already present in f.\n",
    "\n",
    "append mode just appends the new content to the existing file.\n",
    "If we have a file named f and we do f.append(something) this would add the new content at the end of the content that was already present in f."
   ]
  },
  {
   "cell_type": "markdown",
   "metadata": {},
   "source": [
    "# Q3. Uppercase Characters\n",
    "\n",
    "Adam has written Python code to count the uppercase alphabets in a text file. But due to some error, parts of his code are now lost. Choose the correct code snippet to complete the code.\n",
    "```python\n",
    "upper=0\n",
    "f1 = open(\"PYTHON.txt\",'r')\n",
    "\n",
    "__1__\n",
    "\n",
    "for i in line:\n",
    "    if (__2__):\n",
    "        upper+=1\n",
    "print(upper)\n",
    "```\n",
    "- 1. line = f1.read(), 2. i.isupper() == True\n",
    "\n",
    "- 1. line = f1.readline(), 2. i.isupper() == True\n",
    "\n",
    "- 1. line = f1.readlines(), 2. i.isupper()\n",
    "\n",
    "- 1. line = f1.read(), 2. i.isupper()"
   ]
  },
  {
   "cell_type": "markdown",
   "metadata": {},
   "source": [
    "✅**Correct Answer:**\n",
    "\n",
    "- 1. line = f1.read(), 2. i.isupper() == True\n",
    "- 1. line = f1.read(), 2. i.isupper()\n",
    "\n",
    "The read() function reads the entire file and returns a string. The isupper() method checks if the current character is Uppercase or not.\n",
    "The return value of isupper() is **True/False**.\n",
    "\n",
    "The first code, checks the return value of the function and compares it with **True**. This comparison in turn returns a **Boolean value**.\n",
    "The second code doesn’t perform any comparison. It directly passes the return value of isupper() to the if block."
   ]
  },
  {
   "cell_type": "markdown",
   "metadata": {},
   "source": [
    "# Q4. File handling III\n",
    "\n",
    "When reading a file using the file object, what method is best for reading the entire file into a single string?\n",
    "- .readlines()\n",
    "- .readline()\n",
    "- .read()\n",
    "- .read_file_to_str()\n"
   ]
  },
  {
   "cell_type": "markdown",
   "metadata": {},
   "source": [
    "✅**Correct Answer:**.read()\n",
    "\n",
    ".read() opens text file for reading. The handle is positioned at the beginning of the file. If the file does not exists, an I/O error is raised. This is also the default mode in which the file is opened. It reads the entire text file into a **single string.**"
   ]
  },
  {
   "cell_type": "markdown",
   "metadata": {},
   "source": [
    "# Q5. File handling II\n",
    "\n",
    "Given the file dog_breeds.txt, which of the following is the correct way to open the file for reading as a text file? Select all that apply.\n",
    "- open('dog_breeds.txt', 'rb')\n",
    "\n",
    "- open('dog_breeds.txt', 'w')\n",
    "\n",
    "- open('dog_breeds.txt')\n",
    "\n",
    "- open('dog_breeds.txt', 'r')\n",
    "\n",
    "- open('dog_breeds.txt', 'wb')"
   ]
  },
  {
   "cell_type": "markdown",
   "metadata": {},
   "source": [
    "✅**correct answer is:**\n",
    "\n",
    "\n",
    "  - open('dog_breeds.txt')\n",
    "  - open('dog_breeds.txt', 'r')\n",
    "\n",
    "The default value of file opening is 'r', i.e., read mode. So in the first case, even if we don't explicitly mention the open mode, it will be opened in read mode.\n",
    "In the second case, we have explicitly mentioned 'r' to specify the opening mode."
   ]
  },
  {
   "cell_type": "code",
   "execution_count": 1,
   "metadata": {},
   "outputs": [],
   "source": [
    "file = open(\"input.txt\", \"w\")"
   ]
  },
  {
   "cell_type": "code",
   "execution_count": 2,
   "metadata": {},
   "outputs": [],
   "source": [
    "file.writelines([\"1 2 3 4 5\\n\", \"6 7 8 9 10\\n\", \"11 12 13 14 15\\n\", \"16 17 18 19 20\\n\", \"21 22 23 24 25\\n\"])"
   ]
  },
  {
   "cell_type": "code",
   "execution_count": 3,
   "metadata": {},
   "outputs": [],
   "source": [
    "file.close()"
   ]
  },
  {
   "cell_type": "code",
   "execution_count": 4,
   "metadata": {},
   "outputs": [],
   "source": [
    "file = open(\"input.txt\", \"rb\")"
   ]
  },
  {
   "cell_type": "code",
   "execution_count": 5,
   "metadata": {},
   "outputs": [
    {
     "data": {
      "text/plain": [
       "[b'1 2 3 4 5\\r\\n',\n",
       " b'6 7 8 9 10\\r\\n',\n",
       " b'11 12 13 14 15\\r\\n',\n",
       " b'16 17 18 19 20\\r\\n',\n",
       " b'21 22 23 24 25\\r\\n']"
      ]
     },
     "execution_count": 5,
     "metadata": {},
     "output_type": "execute_result"
    }
   ],
   "source": [
    "file.readlines()"
   ]
  },
  {
   "cell_type": "code",
   "execution_count": 7,
   "metadata": {},
   "outputs": [
    {
     "data": {
      "text/plain": [
       "0"
      ]
     },
     "execution_count": 7,
     "metadata": {},
     "output_type": "execute_result"
    }
   ],
   "source": [
    "file.seek(0)"
   ]
  },
  {
   "cell_type": "code",
   "execution_count": 8,
   "metadata": {},
   "outputs": [
    {
     "data": {
      "text/plain": [
       "b'1 2 3 4 5\\r\\n6 7 8 9 10\\r\\n11 12 13 14 15\\r\\n16 17 18 19 20\\r\\n21 22 23 24 25\\r\\n'"
      ]
     },
     "execution_count": 8,
     "metadata": {},
     "output_type": "execute_result"
    }
   ],
   "source": [
    "file.read()"
   ]
  },
  {
   "cell_type": "code",
   "execution_count": 9,
   "metadata": {},
   "outputs": [],
   "source": [
    "file.close()"
   ]
  },
  {
   "cell_type": "code",
   "execution_count": 5,
   "metadata": {},
   "outputs": [],
   "source": [
    "file = open(\"input.txt\", \"r\")"
   ]
  },
  {
   "cell_type": "code",
   "execution_count": 2,
   "metadata": {},
   "outputs": [
    {
     "data": {
      "text/plain": [
       "'1 2 3 4 5\\n6 7 8 9 10\\n11 12 13 14 15\\n16 17 18 19 20\\n21 22 23 24 25\\n'"
      ]
     },
     "execution_count": 2,
     "metadata": {},
     "output_type": "execute_result"
    }
   ],
   "source": [
    "file.read()"
   ]
  },
  {
   "cell_type": "code",
   "execution_count": 12,
   "metadata": {},
   "outputs": [
    {
     "data": {
      "text/plain": [
       "0"
      ]
     },
     "execution_count": 12,
     "metadata": {},
     "output_type": "execute_result"
    }
   ],
   "source": [
    "file.seek(0)"
   ]
  },
  {
   "cell_type": "code",
   "execution_count": 13,
   "metadata": {},
   "outputs": [
    {
     "data": {
      "text/plain": [
       "['1 2 3 4 5\\n',\n",
       " '6 7 8 9 10\\n',\n",
       " '11 12 13 14 15\\n',\n",
       " '16 17 18 19 20\\n',\n",
       " '21 22 23 24 25\\n']"
      ]
     },
     "execution_count": 13,
     "metadata": {},
     "output_type": "execute_result"
    }
   ],
   "source": [
    "file.readlines()"
   ]
  }
 ],
 "metadata": {
  "kernelspec": {
   "display_name": "Python 3",
   "language": "python",
   "name": "python3"
  },
  "language_info": {
   "codemirror_mode": {
    "name": "ipython",
    "version": 3
   },
   "file_extension": ".py",
   "mimetype": "text/x-python",
   "name": "python",
   "nbconvert_exporter": "python",
   "pygments_lexer": "ipython3",
   "version": "3.11.4"
  }
 },
 "nbformat": 4,
 "nbformat_minor": 2
}
