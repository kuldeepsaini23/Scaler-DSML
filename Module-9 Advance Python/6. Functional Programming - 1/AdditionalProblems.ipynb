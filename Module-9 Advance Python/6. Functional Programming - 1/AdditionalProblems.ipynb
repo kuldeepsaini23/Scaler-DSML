{
 "cells": [
  {
   "cell_type": "markdown",
   "metadata": {},
   "source": [
    "# Additional Problems"
   ]
  },
  {
   "cell_type": "markdown",
   "metadata": {},
   "source": [
    "# Q1. lambda in python\n",
    "\n",
    "What will be the output of the following code snippet:\n",
    "```python\n",
    "def func2(c, d):\n",
    "    return c, d\n",
    "\n",
    "def func1(a, b):\n",
    "    c = a**1\n",
    "    d = b**2\n",
    "    return lambda: func2(c,d)\n",
    "\n",
    "result = func1(1, 2)\n",
    "\n",
    "print(result())"
   ]
  },
  {
   "cell_type": "markdown",
   "metadata": {},
   "source": [
    "#### ✅(1,4)"
   ]
  },
  {
   "cell_type": "markdown",
   "metadata": {},
   "source": [
    "# Q2. odd lambda\n",
    "What will be the output of the following code snippet:\n",
    "```python\n",
    "odd=lambda x: bool(x%2)\n",
    "result=[n for n in range(10)]\n",
    "\n",
    "for i in result:\n",
    "    if odd(i):\n",
    "        continue       \n",
    "    else:\n",
    "        print(i, end=\" \")"
   ]
  },
  {
   "cell_type": "markdown",
   "metadata": {},
   "source": [
    "### ✅0 2 4 6 8"
   ]
  },
  {
   "cell_type": "markdown",
   "metadata": {},
   "source": [
    "# Q3. Reason for output\n",
    "\n",
    "Which option represents the statement that is responsible for generating [2, [2, 3, 2, 3], 8, 10] as the output in the following code?\n",
    "```python\n",
    "a=[1,[2,3],4,5]\n",
    "result = lambda x: list(map(lambda y:2*y, x)) if isinstance(x,list) else lambda x:3*x\n",
    "print(result(a))"
   ]
  },
  {
   "cell_type": "markdown",
   "metadata": {},
   "source": [
    "### ✅list(map(lambda y:2y, x)) is the correct option.\n",
    "- Here a is passed as an argument in result function which is actually a list therefore lambda function’s if block will be executed which leads to statement list(map(lambda y:2y, x))."
   ]
  }
 ],
 "metadata": {
  "language_info": {
   "name": "python"
  }
 },
 "nbformat": 4,
 "nbformat_minor": 2
}
