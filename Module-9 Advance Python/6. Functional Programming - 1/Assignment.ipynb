{
 "cells": [
  {
   "cell_type": "markdown",
   "metadata": {},
   "source": [
    "# Functional Programming - 1 Assignment"
   ]
  },
  {
   "cell_type": "markdown",
   "metadata": {},
   "source": [
    "# Q1. Palindrome String\n",
    "\n",
    "Given a string, determine if it is a palindrome. While checking for a palindrome, you have to ignore spaces, case and all special characters; i.e. consider only alphanumeric characters. Check the sample testcase for reference.\n",
    "\n",
    "Example:\n",
    "\n",
    "\"A man, a plan, a canal: Panama\" is a palindrome.\n",
    "\n",
    "\"race a car\" is not a palindrome.\n",
    "\n",
    "Return 0 / 1 ( 0 for false, 1 for true ) for this problem\n",
    "\n",
    "Expected Output\n",
    "Provide sample input and click run to see the correct output for the provided input. Use this to improve your problem understanding and test edge cases"
   ]
  },
  {
   "cell_type": "code",
   "execution_count": 1,
   "metadata": {},
   "outputs": [],
   "source": [
    "class Solution:\n",
    "    # @param A : string\n",
    "    # @return an integer\n",
    "    def isPalindrome(self, A):\n",
    "        i = 0\n",
    "        j = len(A) - 1\n",
    "        while i < j:\n",
    "            if not A[i].isalnum():\n",
    "                i += 1\n",
    "            elif not A[j].isalnum():\n",
    "                j -= 1\n",
    "            elif A[i].lower() != A[j].lower():\n",
    "                return 0\n",
    "            else:\n",
    "                i += 1\n",
    "                j -= 1\n",
    "        return 1"
   ]
  },
  {
   "cell_type": "markdown",
   "metadata": {},
   "source": [
    "# Q2. salaries and job\n",
    "\n",
    "Fill in the _______ to get the required output (mentioned in the Code snippet).\n",
    "```python\n",
    "column_names = ['name', 'salary', 'job']\n",
    "db_rows = [('Alice', 180000, 'data scientist'),\n",
    "           ('Bob', 99000, 'data engineer'),\n",
    "           ('Frank', 87000, 'data analyst')]\n",
    "\n",
    "db = [dict(zip(__________)) for row in db_rows]\n",
    "print(db)\n",
    "\n",
    "Required Output: [{'name': 'Alice', 'salary': 180000, 'job': 'data scientist'}, {'name': 'Bob', 'salary': 99000, 'job': 'data engineer'}, {'name': 'Frank', 'salary': 87000, 'job': 'data analyst'}]"
   ]
  },
  {
   "cell_type": "markdown",
   "metadata": {},
   "source": [
    "#### ✅ column_names, row"
   ]
  },
  {
   "cell_type": "markdown",
   "metadata": {},
   "source": [
    "# Q3. words of length\n",
    "\n",
    "Problem Description\n",
    "Write a Python function that takes a string and a length value as input arguments and returns the words from the string whose length is equal to the provided input length value.\n",
    "\n",
    "\n",
    "Input Format\n",
    "```python\n",
    "The string\n",
    "Value of the length of word\n",
    "```\n",
    "\n",
    "Output Format\n",
    "```python\n",
    "A list of strings containing the words having length equal to the value provided in input.\n",
    "```\n",
    "\n",
    "Example Input\n",
    "```python\n",
    "\"The world has changed and none of us can go back all we can do is our best and sometimes the best that we can do is to start over\n",
    "5\n",
    "```\n",
    "\n",
    "\n",
    "Example Output\n",
    "```python\n",
    "[‘world’, ‘start’]\n",
    "```\n",
    "\n",
    "Example Explanation\n",
    "```python\n",
    "The string has only two words with length of 5 which are \"world\" and \"start\".\n",
    "```\n"
   ]
  },
  {
   "cell_type": "code",
   "execution_count": 2,
   "metadata": {},
   "outputs": [],
   "source": [
    "def LengthSequence(string, length):\n",
    "    '''string => a string\n",
    "       length => an integer representing required length of words which are be returned'''\n",
    "    result= []\n",
    "    # YOUR CODE GOES HERE\n",
    "    strs = string.split(\" \")\n",
    "    for i in strs:\n",
    "        if(len(i) == length):\n",
    "            result.append(i)\n",
    "    \n",
    "    return result"
   ]
  },
  {
   "cell_type": "markdown",
   "metadata": {},
   "source": [
    "# Q4. factorial of Fibonacci\n",
    "\n",
    "Problem Description\n",
    "```python\n",
    "Write a program to store the first N Fibonacci numbers in a list using Recursion.\n",
    "\n",
    "Also, create a second list which is a copy of the first one, to store the same elements but with the following conditions:\n",
    "a. if the number is a prime number, replace it with its factorial\n",
    "b. else keep the number as it is\n",
    "\n",
    "Note: return both the arrays.\n",
    "```\n",
    "\n",
    "Input Format\n",
    "```python\n",
    "The value of N\n",
    "```\n",
    "\n",
    "Output Format\n",
    "```python\n",
    "A tuple consisting of (Fibonacci series for the first N numbers, list having factorial of prime number in Fibonacci list)\n",
    "```\n",
    "\n",
    "Example Input\n",
    "```python\n",
    "9 #input value N\n",
    "```\n",
    "\n",
    "Example Output\n",
    "```python\n",
    "([0, 1, 1, 2, 3, 5, 8, 13, 21], [0, 1, 1, 2, 6, 120, 8, 6227020800, 21]) #output\n",
    "\n",
    "[0, 1, 1, 2, 3, 5, 8, 13, 21] #First 9 Fibonacci numbers\n",
    "[0, 1, 1, 2, 6, 120, 8, 6227020800, 21] #list having factorial of prime number in Fibonacci list\n"
   ]
  },
  {
   "cell_type": "code",
   "execution_count": 3,
   "metadata": {},
   "outputs": [],
   "source": [
    "def func(n):\n",
    "\n",
    "    fibonacci_list=[]\n",
    "    factorial_list=[]\n",
    "\n",
    "    # Function to calculate the first n Fibonacci numbers\n",
    "    def fibo(n): \n",
    "      if n <= 1:\n",
    "          return n\n",
    "      else:\n",
    "          return(fibo(n-1) + fibo(n-2))\n",
    "\n",
    "    # Function to calculate the factorial of a number k\n",
    "    def fact(k): \n",
    "      if k==1:\n",
    "        return 1\n",
    "      else:\n",
    "        return k*fact(k-1)\n",
    "\n",
    "    # Function to check whether the number is prime or not\n",
    "    def prime(m): \n",
    "      count=0 \n",
    "      for i in range(1,m):\n",
    "        if m%i==0:\n",
    "          count+=1\n",
    "      if count!=1:\n",
    "        return m\n",
    "      else:\n",
    "        return fact(m)\n",
    "\n",
    "    for i in range(n):\n",
    "        fibonacci_list.append(fibo(i))\n",
    "\n",
    "    for j in fibonacci_list:\n",
    "        factorial_list.append(prime(j))\n",
    "\n",
    "    return fibonacci_list, factorial_list"
   ]
  },
  {
   "cell_type": "markdown",
   "metadata": {},
   "source": [
    "# Q5. Pack and unpack\n",
    "\n",
    "What will be the output of the following code snippet:\n",
    "```python\n",
    "list1 = [[1,2,3],[4,5,6],[7,8,9]]\n",
    "list2 = [[9,8,7],[6,5,4],[3,2,1]]\n",
    "ls11,ls12,ls13=list1\n",
    "ls21,ls22,ls23=list2\n",
    "print(list(zip(ls11,ls12,ls13,ls21,ls22,ls23)))"
   ]
  },
  {
   "cell_type": "code",
   "execution_count": 4,
   "metadata": {},
   "outputs": [
    {
     "name": "stdout",
     "output_type": "stream",
     "text": [
      "[(1, 4, 7, 9, 6, 3), (2, 5, 8, 8, 5, 2), (3, 6, 9, 7, 4, 1)]\n"
     ]
    }
   ],
   "source": [
    "list1 = [[1,2,3],[4,5,6],[7,8,9]]\n",
    "list2 = [[9,8,7],[6,5,4],[3,2,1]]\n",
    "ls11,ls12,ls13=list1\n",
    "ls21,ls22,ls23=list2\n",
    "print(list(zip(ls11,ls12,ls13,ls21,ls22,ls23)))"
   ]
  }
 ],
 "metadata": {
  "kernelspec": {
   "display_name": "Python 3",
   "language": "python",
   "name": "python3"
  },
  "language_info": {
   "codemirror_mode": {
    "name": "ipython",
    "version": 3
   },
   "file_extension": ".py",
   "mimetype": "text/x-python",
   "name": "python",
   "nbconvert_exporter": "python",
   "pygments_lexer": "ipython3",
   "version": "3.11.4"
  }
 },
 "nbformat": 4,
 "nbformat_minor": 2
}
