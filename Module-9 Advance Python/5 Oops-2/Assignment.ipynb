{
 "cells": [
  {
   "cell_type": "markdown",
   "metadata": {},
   "source": [
    "# OOPS - 2 Assignment"
   ]
  },
  {
   "cell_type": "markdown",
   "metadata": {},
   "source": [
    "# Q1. wrong about inheritance\n",
    "\n",
    "Which of the statements in the option is wrong about inheritance?\n",
    "- Protected members of a class can be inherited\n",
    "- The inheriting class is called a subclass\n",
    "- Private members of a class can be inherited\n",
    "- Inheritance is one of the features of OOP"
   ]
  },
  {
   "cell_type": "markdown",
   "metadata": {},
   "source": [
    "Private members of a class can be inherited, is the correct answer.\n",
    "\n",
    "The private members of a class are only accessible **within the class**, therefore they can’t be **inherited**."
   ]
  },
  {
   "cell_type": "markdown",
   "metadata": {},
   "source": [
    "# Q2. car and its cover\n",
    "\n",
    "What will be the output of the following code snippet:\n",
    "```python\n",
    "class car:\n",
    "    def __init__(self):\n",
    "        self.price = 100\n",
    "        self.__cover = 5\n",
    "\n",
    "    def display(self):\n",
    "        print(self.__cover)\n",
    "\n",
    "obj=car()\n",
    "obj.display()"
   ]
  },
  {
   "cell_type": "markdown",
   "metadata": {},
   "source": [
    "#### The program runs fine and 5 is printed"
   ]
  },
  {
   "cell_type": "markdown",
   "metadata": {},
   "source": [
    "# Q3. init() method in A from B\n",
    "\n",
    "Suppose B is a subclass of A, to invoke the __init__ method of A from B, what is the line of code you should write?\n",
    "- A.__init__(self)\n",
    "- B.__init__(self)\n",
    "- A.__init__(B)\n",
    "- B.__init__(A)"
   ]
  },
  {
   "cell_type": "markdown",
   "metadata": {},
   "source": [
    "### A.__init__(self)"
   ]
  },
  {
   "cell_type": "markdown",
   "metadata": {},
   "source": [
    "# Q6. help function in classes\n",
    "\n",
    "Given the following Code\n",
    "```python\n",
    "class student: \n",
    "    def __init__(self): \n",
    "        '''The student class is initialized'''\n",
    "\n",
    "    def print_student(self): \n",
    "        '''Returns the student description'''\n",
    "        print('student description') \n",
    "\n",
    "help(student)\n",
    "```\n",
    "What does the Built-in function \"help\" do in the context of classes?"
   ]
  },
  {
   "cell_type": "markdown",
   "metadata": {},
   "source": [
    "**Correct Answer:** Determines class description of any user-defined or built-in type\n",
    "\n",
    "**Explanation:** help function provides information about modules classes and functions. In case of a user defined class, it returns the methods defined in it along with the string added within each method.\n",
    "\n",
    "Output for the given code-\n",
    "\n",
    "Help on class student in module __main__:\n",
    "\n",
    "class student(builtins.object)\n",
    "\n",
    " |  Methods defined here:\n",
    " |  \n",
    " |  __init__(self)\n",
    " |      The student class is initialized\n",
    " |  \n",
    " |  print_student(self)\n",
    " |      Returns the student description\n",
    " |  \n",
    " |  ----------------------------------------------------------------------\n",
    " |  Data descriptors defined here:\n",
    " |  \n",
    " |  __dict__\n",
    " |      dictionary for instance variables (if defined)\n",
    " |  \n",
    " |  __weakref__\n",
    " |      list of weak references to the object (if defined)"
   ]
  },
  {
   "cell_type": "markdown",
   "metadata": {},
   "source": [
    "# Q7. inheritance in python\n",
    "\n",
    "What will be the output of the following code block?\n",
    "```python\n",
    "class A:\n",
    "   def one(self):\n",
    "       return self.two()\n",
    "   def two(self):\n",
    "       return 'A'\n",
    "class B(A):\n",
    "   def two(self):\n",
    "       return 'B'\n",
    "obj= B()\n",
    "print(obj.one())"
   ]
  },
  {
   "cell_type": "code",
   "execution_count": 1,
   "metadata": {},
   "outputs": [
    {
     "name": "stdout",
     "output_type": "stream",
     "text": [
      "B\n"
     ]
    }
   ],
   "source": [
    "class A:\n",
    "   def one(self):\n",
    "       return self.two()\n",
    "   def two(self):\n",
    "       return 'A'\n",
    "class B(A):\n",
    "   def two(self):\n",
    "       return 'B'\n",
    "obj= B()\n",
    "print(obj.one())"
   ]
  },
  {
   "cell_type": "markdown",
   "metadata": {},
   "source": []
  }
 ],
 "metadata": {
  "kernelspec": {
   "display_name": "Python 3",
   "language": "python",
   "name": "python3"
  },
  "language_info": {
   "codemirror_mode": {
    "name": "ipython",
    "version": 3
   },
   "file_extension": ".py",
   "mimetype": "text/x-python",
   "name": "python",
   "nbconvert_exporter": "python",
   "pygments_lexer": "ipython3",
   "version": "3.11.4"
  }
 },
 "nbformat": 4,
 "nbformat_minor": 2
}
