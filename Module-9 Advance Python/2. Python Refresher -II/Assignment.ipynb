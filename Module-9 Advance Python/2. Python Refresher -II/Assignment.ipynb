{
 "cells": [
  {
   "cell_type": "markdown",
   "metadata": {},
   "source": [
    "# Assignment Python Refresher - II"
   ]
  },
  {
   "cell_type": "markdown",
   "metadata": {},
   "source": [
    "# Q1. sum in tuple\n",
    "\n",
    "Which of the options is correct about the following code snippet?\n",
    "```python\n",
    "lis = [(0, 2), (1, 3), (2, 4)]\n",
    "result = sum (n for _, n in lis)\n",
    "print(result)\n",
    "```\n",
    "- It will be printing the sum of all elements in the list\n",
    "- It will be printing the sum of the first elements of tuples in the list\n",
    "- It will be printing the sum of the second elements of tuples in the list\n",
    "- None of the options is correct\n"
   ]
  },
  {
   "cell_type": "code",
   "execution_count": 1,
   "metadata": {},
   "outputs": [
    {
     "name": "stdout",
     "output_type": "stream",
     "text": [
      "9\n"
     ]
    }
   ],
   "source": [
    "lis = [(0, 2), (1, 3), (2, 4)]\n",
    "result = sum (n for _, n in lis)\n",
    "print(result)"
   ]
  },
  {
   "cell_type": "markdown",
   "metadata": {},
   "source": [
    "“It will be printing the sum of the second elements of tuples in the list” is correct answer.\n",
    "\n",
    "- ‘_’ iterates over the first element of each tuple and ‘n’ over last element of each tuple.\n",
    "- Result stores sum of the last elements of each tuple.\n",
    "- Code snippet will be printing 9 i.e. 2 + 3 + 4"
   ]
  }
 ],
 "metadata": {
  "kernelspec": {
   "display_name": "Python 3",
   "language": "python",
   "name": "python3"
  },
  "language_info": {
   "codemirror_mode": {
    "name": "ipython",
    "version": 3
   },
   "file_extension": ".py",
   "mimetype": "text/x-python",
   "name": "python",
   "nbconvert_exporter": "python",
   "pygments_lexer": "ipython3",
   "version": "3.11.4"
  }
 },
 "nbformat": 4,
 "nbformat_minor": 2
}
