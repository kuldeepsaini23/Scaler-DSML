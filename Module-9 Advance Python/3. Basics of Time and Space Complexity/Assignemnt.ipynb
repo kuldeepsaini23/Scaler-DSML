{
 "cells": [
  {
   "cell_type": "markdown",
   "metadata": {},
   "source": [
    "# Assignment Time and Space Complexity"
   ]
  },
  {
   "cell_type": "markdown",
   "metadata": {},
   "source": [
    "# Q1. space complexity linear search\n",
    "\n",
    "For a linear search, what’s the correct space complexity?\n",
    "- O(1)\n",
    "- O(n)\n",
    "- O(log n)\n",
    "- O(n^2)\n"
   ]
  },
  {
   "cell_type": "markdown",
   "metadata": {},
   "source": [
    "✅O(1) is correct asnwer since we aren’t using any extra variables or array to store the data, and just comparing the value at each point of the iteration."
   ]
  },
  {
   "cell_type": "markdown",
   "metadata": {},
   "source": [
    "# Q2. Time complexity of code - I\n",
    "\n",
    "What is the time complexity of the following code snippet?\n",
    "```python\n",
    "for i in range(n):\n",
    "  j=i\n",
    "  while j<i:\n",
    "    print(j)\n",
    "    j=j+1\n",
    "```\n",
    "- O(n^2)\n",
    "- O(nlog(n))\n",
    "- O(n)\n",
    "- O(log(n))"
   ]
  },
  {
   "cell_type": "markdown",
   "metadata": {},
   "source": [
    "✅ O(n) is the correct answer.\n",
    "\n",
    "Only the outer for loop is executed. The inner while loop is not executed because j is initiated with i and while loop’s condition is that **j should be smaller than i**, therefore it never gets executed.\n",
    "\n",
    "For example suppose we have n=5.\n",
    "So value of i=0, for the first iteration of outer loop.\n",
    "The value of j is also assigned same as i, therefore j=0.\n",
    "\n",
    "Now checking while loop condition, j<i( 0 is not less than 0), hence False. So it is not executed.\n",
    "Similarly for all values until 5, this condition will evaluate to False. So the for loop executes 5 times.\n",
    "\n",
    "Hence the time complexity is O(n)."
   ]
  },
  {
   "cell_type": "markdown",
   "metadata": {},
   "source": [
    "# Q3. Time complexity of code - II\n",
    "\n",
    "What is the time complexity of the following code snippet?\n",
    "```python\n",
    "for i in range(1,n):\n",
    "  for j in range(i):\n",
    "    print(\"x\",end=\" \")\n",
    "  print()\n",
    "```\n",
    "- O(n)\n",
    "- O(n^2)\n",
    "- O(log(n))\n",
    "- O(nlog(n))"
   ]
  },
  {
   "cell_type": "markdown",
   "metadata": {},
   "source": [
    "O(n^2) is the correct answer.\n",
    "\n",
    "The question consists of nested for loops. The outer for loop gets executed n times and the inner for loop executes i no. of times for each i in the outer for loop.\n",
    "\n",
    "For i=1, the inner loop executes 1 time\n",
    "\n",
    "For i=2, the inner loop executes 2 times\n",
    "\n",
    "For i=3, the inner loop executes 3 times\n",
    "\n",
    ".\n",
    "\n",
    ".\n",
    "\n",
    ".\n",
    "\n",
    "For i=n, the inner loop executes n times\n",
    "\n",
    "Therefore the total number of steps are : 1 + 2 + 3 + …..+ n\n",
    "= n*(n-1)/2 (Formula for the Sum of first n natural numbers)\n",
    "=> **O(n^2)**"
   ]
  },
  {
   "cell_type": "markdown",
   "metadata": {},
   "source": [
    "# Q4. Time complexity of code - III\n",
    "\n",
    "What is the time complexity of the following code snippet?\n",
    "```python\n",
    "for i in range(n):\n",
    "  j=i\n",
    "  while j!=0:\n",
    "    print(j)\n",
    "    j=j//2\n",
    "```\n",
    "- O(n)\n",
    "- O(nlog(n))\n",
    "- O(log(n))\n",
    "- O(n^2)\n"
   ]
  },
  {
   "cell_type": "markdown",
   "metadata": {},
   "source": [
    "O(nlog(n)) is the correct answer.\n",
    "\n",
    "The outer for loop gets executed n times. The outer loop variable i goes from 0 to n-1 (The upper limit is excluded).\n",
    "\n",
    "For each outer loop’s ith iteration, inner loop gets executed log(i) times.\n",
    "\n",
    "  \n",
    "  - For i=4, the value of j is initialised to 4. For the first iteration, j!=0 so the while loop executes. 4 is printed\n",
    "  j becomes j//2. 4//2 = 2\n",
    "  \n",
    "  \n",
    "  \n",
    "  - For the second iteration, j!=0 so the while loop executes. 2 is printed\n",
    "  j becomes j//2. 2//2 = 1\n",
    "  \n",
    "  \n",
    "  \n",
    "  - For the third iteration, j!=0 so the while loop executes. 1 is printed\n",
    "  j becomes j//2. 1//2 = 0\n",
    "\n",
    "The while loop breaks in the next iteration.\n",
    "\n",
    "So for i=n, the value of j is halved until it becomes 0. Because as soon as it becomes one it will break in next iteration.\n",
    "\n",
    "So let us suppose the value j is divided k times to get 1.\n",
    "\n",
    "n/2k = 1"
   ]
  },
  {
   "cell_type": "markdown",
   "metadata": {},
   "source": [
    "# Q5. isprime() function\n",
    "\n",
    "Choose the correct option which represents the time complexity of the function isprime().\n",
    "```python\n",
    "def isprime(n):\n",
    "  for i in range(2, int(n**0.5)+1):\n",
    "    if n%i==0:\n",
    "      return False\n",
    "  return True\n",
    "```\n",
    "- O(n)\n",
    "- O(n**0.5)\n",
    "- O(n^2)\n",
    "- O(log(n))"
   ]
  },
  {
   "cell_type": "markdown",
   "metadata": {},
   "source": [
    "✅O(n**0.5) is the correct option.\n",
    "\n",
    "The outer for loop runs maximum sqrt(n) times for checking whether there is any factor of n smaller than sqrt(n).\n",
    "\n",
    "If any factor is encountered, then the number won’t be prime. So False is returned."
   ]
  },
  {
   "cell_type": "markdown",
   "metadata": {},
   "source": [
    "# Q6. Triple Nested TC\n",
    "\n",
    "What would be the time complexity of the following code?\n",
    "```python\n",
    "for i in range(1, n+1):\n",
    "    for j in range(1, n+1):\n",
    "        for k in range(n//2, n+1, n//2):\n",
    "            c += 1\n",
    "```\n",
    "- O(n²)\n",
    "- O(n³)\n",
    "- O(n log n)\n",
    "- O(n)\n"
   ]
  },
  {
   "cell_type": "markdown",
   "metadata": {},
   "source": [
    "**Correct Answer:** O(n2)\n",
    "\n",
    "We can see that the outermost loop(i) runs n times( from 1 to n, as n+1 is excluded in the for loop range)\n",
    "Also the inner loop(j), for every jth iteration, the loop runs n times( from 1 to n, as n+1 is excluded in the for loop range)\n",
    "\n",
    "So it is already running n2 times.\n",
    "\n",
    "Now the innermost loop(k) starts from n//2 and goes to n with a step size of n//2. Effectively it runs 2 times for every iteration.\n",
    "\n",
    "So the overall running complexity becomes n x n x 2 => 2n2\n",
    "\n",
    "Now as we exclude any constants in time complexity, our final time complexity becomes O(n2)."
   ]
  }
 ],
 "metadata": {
  "language_info": {
   "name": "python"
  }
 },
 "nbformat": 4,
 "nbformat_minor": 2
}
