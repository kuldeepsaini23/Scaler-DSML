{
 "cells": [
  {
   "cell_type": "markdown",
   "metadata": {},
   "source": [
    "# Additional problems"
   ]
  },
  {
   "cell_type": "markdown",
   "metadata": {},
   "source": [
    "# Q1. Nested For Loops\n",
    "\n",
    "For the code given below, what would be the time complexity?\n",
    "```python\n",
    "for i in range(1, n):\n",
    "    for j in range(1, n//4):\n",
    "        for k in range(1, n):\n",
    "            break\n",
    "```\n",
    "- O(n)\n",
    "- O(n³)\n",
    "- O(n²)\n",
    "- O(n² log n)\n"
   ]
  },
  {
   "cell_type": "markdown",
   "metadata": {},
   "source": [
    ">**Correct answer:** O(n2)\n",
    "\n",
    "The outermost loop(i) runs from 1 to n. So it is executed n-1 times, as the ending range is excluded in for loop.\n",
    "The inner loop(j) runs from 1 to n//4. So for each value of n, it runs (n//4)-1 times, as the ending range is excluded in for loop.\n",
    "\n",
    "We enter the innermost loop(k) only once. As soon as we enter k loop, the break command **breaks the loop**.\n",
    "\n",
    "So the total complexity of the code is\n",
    "\n",
    "= n.((n//4)-1)\n",
    "\n",
    "= n2//4 - n\n",
    "\n",
    "= n2 (We exclude the lower order terms and constants)\n",
    "\n",
    "So the Time Complexity becomes **O(n2)**."
   ]
  },
  {
   "cell_type": "markdown",
   "metadata": {},
   "source": [
    "# Q2. Time Complexity Comparison\n",
    "\n",
    "If a function with number of operations as 22n, can be represented as O(2n)?\n",
    "- True\n",
    "- False"
   ]
  },
  {
   "cell_type": "markdown",
   "metadata": {},
   "source": [
    "False is the correct option.\n",
    "\n",
    "By the property of Big-Oh, we know that if f(n) = O(g(n))\n",
    "\n",
    "Then it means means there exists positive constants c and n0, such that 0 ≤ f(n) ≤ cg(n) for all n ≥ n0.\n",
    "\n",
    "So if this equality holds the above condition should be fulfilled.\n",
    "\n",
    "![](https://d2beiqkhq929f0.cloudfront.net/public_assets/assets/000/009/881/original/tc.png?1662319387)\n",
    "\n",
    "But this inqeuality will never hold. There doesn’t exist any integer c to satisfy this equation. So the answer is False."
   ]
  },
  {
   "cell_type": "markdown",
   "metadata": {},
   "source": [
    "Q3. While and While\n",
    "```python\n",
    "Given the nested while loop code excerpt below, what would be the correct time complexity for the same?\n",
    "\n",
    "i = n\n",
    "while i>0:\n",
    "    j = 1\n",
    "    while j<=n:\n",
    "        j = j*2\n",
    "    i = i//2\n",
    "```\n",
    "- O(log²(n))\n",
    "- O(log(n))\n",
    "- O(log(n²))\n",
    "- O(n²)"
   ]
  },
  {
   "cell_type": "markdown",
   "metadata": {},
   "source": [
    "✅**Correct Answer:** O(log^2(n))\n",
    "\n",
    "The outermost while loop (i) starts from n and goes upto 1. The decrement for loop variable i in each iteration is i = i//2.\n",
    "So it is executed log(n) times.\n",
    "\n",
    "Now for each iteration of the outer-loop, the inner loop is executed from j=1 to n.\n",
    "The increment of the loop variable j in each iteration is j=j*2.\n",
    "So the inner loop also runs log(n) times.\n",
    "\n",
    "Hence the time complexity of the code is\n",
    "= log(n).log(n)\n",
    "= O(log2(n))"
   ]
  },
  {
   "cell_type": "markdown",
   "metadata": {},
   "source": [
    "# Q4. Increasing Time Complexity\n",
    "\n",
    "Consider the following functions given below:\n",
    "10, √n, n, log2(n), 100/n\n",
    "The correct order of the above functions in increasing order of asymptotic complexity is:\n",
    "\n",
    "a) log2(n), n, 100/n, 10, √n\n",
    "\n",
    "b) 100/n, 10, log2(n), √n, n\n",
    "\n",
    "c) 10, 100/n, √n, n, log2(n)\n",
    "\n",
    "d) 100/n, log2(n), 10, √n, n"
   ]
  },
  {
   "cell_type": "markdown",
   "metadata": {},
   "source": [
    "Option(b) is the correct answer.\n",
    "\n",
    "10 is **constant**. So the growth rate is 0.\n",
    "\n",
    "√n grows **slower** than linear but faster than log.\n",
    "\n",
    "log2n have **logarithmic** growth rate. For asymptotic growth, the base does not matter.\n",
    "\n",
    "100/n has a growth rate that decreases with n.\n",
    "\n",
    "As we know that constant is smaller than a variable in case of asymptotic complexity because a variable can take any value smaller or larger.\n",
    "\n",
    "But when we compare 10 with n/100, as 100 is divided by n and if n goes to infinite than this value will become zero. This can be observed that a constant has smaller effect on growth rate of the time complexity than the variables\n",
    "\n",
    "So, n/100 is smaller than 10.\n",
    "\n",
    "In case of log2n growth rate is logarithmic which is smaller than linear growth(n).\n",
    "\n",
    "Comparing between √n and n, n has a larger growth rate."
   ]
  },
  {
   "cell_type": "markdown",
   "metadata": {},
   "source": [
    "# Q5. Function's Time Complexity\n",
    "\n",
    "What is the time complexity for the following python function?\n",
    "```python\n",
    "def f():\n",
    "  ans = 0\n",
    "  for i in range(1,n+1):\n",
    "    for j in range(i,n+1,i):\n",
    "      ans += 1\n",
    "  print(ans) \n",
    "```\n",
    "- O(logn)\n",
    "- O(n)\n",
    "- O(nlogn)\n",
    "- O(n^2)"
   ]
  },
  {
   "cell_type": "markdown",
   "metadata": {},
   "source": [
    "**Correct Answer:** O(nlogn)\n",
    "\n",
    "Here outer for loop (loop i) will run n times.\n",
    "\n",
    "when i=1, inner loop (loop j) will run n/1 times [for j = 1 to j=n with an increment of 1 in each step(j+=1)]\n",
    "\n",
    "when i=2, inner loop will run n/2 times [for j = 2 to j=n with an increment of 2 in each step(j+=2)]\n",
    "…up to\n",
    "\n",
    "i=n, inner loop will run n/n=1 time [for j = n to j=n with an increment of n in each step(j+=n)]\n",
    "\n",
    "So, Total time= O(n+ n/2+ n/3+ …+ n/n)\n",
    "\n",
    "Taking n common\n",
    "\n",
    "=O(n(1+1/2 +1/3+…+1/n)) [1 + 1/2 + 1/3 + ....... + 1/n = logn]\n",
    "=O(nlogn)"
   ]
  },
  {
   "cell_type": "markdown",
   "metadata": {},
   "source": [
    "# Q6. Asymptotic Order\n",
    "\n",
    "Consider the following functions given below:\n",
    "\n",
    "f = 10(3n+1)\n",
    "\n",
    "g = nlog2n\n",
    "\n",
    "h = n√n\n",
    "\n",
    "The correct order of the above functions in increasing order of asymptotic complexity is:"
   ]
  },
  {
   "cell_type": "markdown",
   "metadata": {},
   "source": [
    "✅**Correct Answer:** g,h,f\n",
    "\n",
    "f = 10(3n + 1)\n",
    "By taking log to the base 2\n",
    "f = (3n+1)* log2(10)\n",
    "\n",
    "g = nlog2n\n",
    "By taking log to the base 2\n",
    "g = log2n * log2n\n",
    "\n",
    "h = n√n\n",
    "By taking log to the base 2\n",
    "h = √n * log2n\n",
    "\n",
    "All the functions have log2 as a term. So the growth rate depends on the first term.\n",
    "(3n+1) is **linear**, log2n is **logarithmic** and √n is **square root**.\n",
    "The order of growth for these are:\n",
    "log2n < √n < 3n+1\n",
    "\n",
    "So the order for the functions given will be\n",
    "g < h < f"
   ]
  },
  {
   "cell_type": "markdown",
   "metadata": {},
   "source": [
    "# Q7. Nested for-while\n",
    "\n",
    "What will be the time complexity of the following code snippet?\n",
    "```python\n",
    "i,j,k,p,q = 0\n",
    "for i in range(n):\n",
    "  p = 0\n",
    "  j = n\n",
    "  while(j>1):\n",
    "    p+=1\n",
    "    k = 1\n",
    "    while(k<p):\n",
    "      q+=1\n",
    "      k *=2\n",
    "    j = j/2\n",
    "```\n",
    "- O(n^3)\n",
    "- O(log(log(n)))\n",
    "- O(n*log(n)*log(log(n)))\n",
    "- None of the above"
   ]
  },
  {
   "cell_type": "markdown",
   "metadata": {},
   "source": [
    "✅**Correct Answer:** O(n*log(log(n)))\n",
    "\n",
    "The outer for loop, i runs n times.\n",
    "\n",
    "The inner while loop, j, runs logn times.\n",
    "\n",
    "Because in each iteration the value of j is halved.\n",
    "\n",
    "The innermost while loop, k, runs logp times.\n",
    "\n",
    "So p = logn and q = log p. So the innermost loop operation, q+=1 runs log(log(n)) times.\n",
    "\n",
    "This happens for each i from 1 to n. So the total time complexity of the code is n*log(n)*log(log(n))."
   ]
  }
 ],
 "metadata": {
  "language_info": {
   "name": "python"
  }
 },
 "nbformat": 4,
 "nbformat_minor": 2
}
